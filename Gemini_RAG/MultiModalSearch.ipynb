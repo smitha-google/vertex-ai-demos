{
  "cells": [
    {
      "cell_type": "code",
      "id": "4WebelRpx3gD3koDrnSHjvKH",
      "metadata": {
        "tags": [],
        "id": "4WebelRpx3gD3koDrnSHjvKH"
      },
      "source": [
        "#Import the necessary packages\n",
        "!pip3 install --upgrade --user google-cloud-aiplatform pymupdf"
      ],
      "execution_count": null,
      "outputs": []
    },
    {
      "cell_type": "code",
      "source": [
        "import sys\n",
        "\n",
        "# Additional authentication is required for Google Colab\n",
        "if \"google.colab\" in sys.modules:\n",
        "    # Authenticate user to Google Cloud\n",
        "    from google.colab import auth\n",
        "\n",
        "    auth.authenticate_user()"
      ],
      "metadata": {
        "id": "YYW5Miu3hCkC",
        "executionInfo": {
          "status": "ok",
          "timestamp": 1703532651658,
          "user_tz": 300,
          "elapsed": 336,
          "user": {
            "displayName": "",
            "userId": ""
          }
        }
      },
      "id": "YYW5Miu3hCkC",
      "execution_count": 1,
      "outputs": []
    },
    {
      "cell_type": "code",
      "source": [
        "# Define project information\n",
        "\n",
        "PROJECT_ID = \"smithaargolisinternal\"  # @param {type:\"string\"}\n",
        "LOCATION = \"us-central1\"  # @param {type:\"string\"}\n",
        "\n",
        "# if not running on colab, try to get the PROJECT_ID automatically\n",
        "if \"google.colab\" not in sys.modules:\n",
        "    import subprocess\n",
        "\n",
        "    PROJECT_ID = subprocess.check_output(\n",
        "        [\"gcloud\", \"config\", \"get-value\", \"project\"], text=True\n",
        "    ).strip()\n",
        "\n",
        "print(f\"Your project ID is: {PROJECT_ID}\")"
      ],
      "metadata": {
        "colab": {
          "base_uri": "https://localhost:8080/"
        },
        "id": "1qbHDX86hFO2",
        "executionInfo": {
          "status": "ok",
          "timestamp": 1703532654049,
          "user_tz": 300,
          "elapsed": 531,
          "user": {
            "displayName": "",
            "userId": ""
          }
        },
        "outputId": "9519f823-2bb0-4f3b-f00f-942ec70c67eb"
      },
      "id": "1qbHDX86hFO2",
      "execution_count": 2,
      "outputs": [
        {
          "output_type": "stream",
          "name": "stdout",
          "text": [
            "Your project ID is: smithaargolisinternal\n"
          ]
        }
      ]
    },
    {
      "cell_type": "code",
      "source": [
        "import sys\n",
        "\n",
        "if \"google.colab\" in sys.modules:\n",
        "    # Initialize Vertex AI\n",
        "    import vertexai\n",
        "\n",
        "    vertexai.init(project=PROJECT_ID, location=LOCATION)"
      ],
      "metadata": {
        "id": "CTL0Qf6mhHcv",
        "executionInfo": {
          "status": "ok",
          "timestamp": 1703532721982,
          "user_tz": 300,
          "elapsed": 66097,
          "user": {
            "displayName": "",
            "userId": ""
          }
        }
      },
      "id": "CTL0Qf6mhHcv",
      "execution_count": 3,
      "outputs": []
    },
    {
      "cell_type": "code",
      "source": [
        "from IPython.display import Markdown, display\n",
        "from vertexai.preview.generative_models import (\n",
        "    Content,\n",
        "    GenerationConfig,\n",
        "    GenerationResponse,\n",
        "    GenerativeModel,\n",
        "    Image,\n",
        "    Part,\n",
        ")\n",
        "from vertexai.language_models import TextEmbeddingModel"
      ],
      "metadata": {
        "id": "PT13zBizhMGd",
        "executionInfo": {
          "status": "ok",
          "timestamp": 1703532792564,
          "user_tz": 300,
          "elapsed": 3,
          "user": {
            "displayName": "",
            "userId": ""
          }
        }
      },
      "id": "PT13zBizhMGd",
      "execution_count": 4,
      "outputs": []
    },
    {
      "cell_type": "code",
      "source": [
        "model = GenerativeModel(\"gemini-pro-vision\")\n",
        "text_embedding_model = TextEmbeddingModel.from_pretrained(\"textembedding-gecko@001\")\n",
        "multi_modal_embedding_endpoint= f\"projects/{PROJECT_ID}/locations/us-central1/publishers/google/models/multimodalembedding@001\""
      ],
      "metadata": {
        "id": "oeF3D7GohPnl",
        "executionInfo": {
          "status": "ok",
          "timestamp": 1703532794723,
          "user_tz": 300,
          "elapsed": 513,
          "user": {
            "displayName": "",
            "userId": ""
          }
        }
      },
      "id": "oeF3D7GohPnl",
      "execution_count": 5,
      "outputs": []
    },
    {
      "cell_type": "code",
      "source": [
        "# download documents and images used in this notebook\n",
        "!gsutil -m rsync -r gs://genpact-sample .\n",
        "print(\"Download completed\")"
      ],
      "metadata": {
        "id": "Ib0hqwnnhWCw"
      },
      "id": "Ib0hqwnnhWCw",
      "execution_count": null,
      "outputs": []
    },
    {
      "cell_type": "code",
      "source": [
        "# Method to open the pdf object\n",
        "import fitz\n",
        "\n",
        "def open_pdf(pdf_path:str) -> tuple[fitz.Document, int]:\n",
        "    # Open the PDF file\n",
        "    doc: fitz.Document = fitz.open(pdf_path)\n",
        "\n",
        "    # Get the number of pages in the PDF file\n",
        "    num_pages: int = len(doc)\n",
        "\n",
        "    return doc, num_pages"
      ],
      "metadata": {
        "id": "oY5ieYaXhYt6",
        "executionInfo": {
          "status": "ok",
          "timestamp": 1703532805995,
          "user_tz": 300,
          "elapsed": 258,
          "user": {
            "displayName": "",
            "userId": ""
          }
        }
      },
      "id": "oY5ieYaXhYt6",
      "execution_count": 7,
      "outputs": []
    },
    {
      "cell_type": "code",
      "source": [
        "# Open the pdf document\n",
        "doc, num_pages = open_pdf(\"Genpact Reports Third Quarter 2023 Results.pdf\")\n",
        "\n",
        "print(f\"Number of pages: {num_pages}\")"
      ],
      "metadata": {
        "colab": {
          "base_uri": "https://localhost:8080/"
        },
        "id": "v2lSngswhZ_D",
        "executionInfo": {
          "status": "ok",
          "timestamp": 1703532807673,
          "user_tz": 300,
          "elapsed": 253,
          "user": {
            "displayName": "",
            "userId": ""
          }
        },
        "outputId": "91aebe07-5acb-446b-e3d3-b6c941a2346f"
      },
      "id": "v2lSngswhZ_D",
      "execution_count": 8,
      "outputs": [
        {
          "output_type": "stream",
          "name": "stdout",
          "text": [
            "Number of pages: 6\n"
          ]
        }
      ]
    },
    {
      "cell_type": "code",
      "source": [
        "#Generate text and image embeddings using multimodal apiendpoint\n",
        "from google.protobuf import struct_pb2\n",
        "from google.cloud import aiplatform\n",
        "\n",
        "def get_embedding(text:None, encoded_image_content:None):\n",
        "    # Create a client to interact with the Vertex AI Prediction Service\n",
        "    client = aiplatform.gapic.PredictionServiceClient(\n",
        "          client_options={\"api_endpoint\": \"us-central1-aiplatform.googleapis.com\"}\n",
        "    )\n",
        "\n",
        "    # Define the parameters for the prediction request\n",
        "    parameters = {\"dimension\": 128}\n",
        "    instance = struct_pb2.Struct()\n",
        "    if text:\n",
        "      instance.fields[\"text\"].string_value = text\n",
        "    if image:\n",
        "        instance[\"image\"] = {\"bytesBase64Encoded\": encoded_image_content}\n",
        "\n",
        "    instances = [instance]\n",
        "\n",
        "    # Make the prediction request\n",
        "    response = client.predict(\n",
        "        endpoint=multi_modal_embedding_endpoint,\n",
        "        instances=instances,\n",
        "        parameters=parameters,\n",
        "    )\n",
        "    text_embedding = [v for v in response.predictions[0].get(\"textEmbedding\", [])]\n",
        "    image_embedding = [v for v in response.predictions[0].get(\"imageEmbedding\", [])]\n",
        "    text_embedding = text_embedding + image_embedding\n",
        "    return text_embedding"
      ],
      "metadata": {
        "id": "7ciTMxaLiCjX",
        "executionInfo": {
          "status": "ok",
          "timestamp": 1703534006358,
          "user_tz": 300,
          "elapsed": 160,
          "user": {
            "displayName": "",
            "userId": ""
          }
        }
      },
      "id": "7ciTMxaLiCjX",
      "execution_count": 32,
      "outputs": []
    },
    {
      "cell_type": "code",
      "source": [
        "# Extract the text from the document and split the document with 1024 characters\n",
        "import pandas as pd\n",
        "from base64 import b64encode\n",
        "\n",
        "text = \"\"\n",
        "df = pd.DataFrame(columns=[\"id\", \"pagetext\", \"embedding\"])\n",
        "\n",
        "# Initialize variables\n",
        "chunk_number = 1\n",
        "chunked_text_dict = {}\n",
        "j = -1\n",
        "embs = []\n",
        "for page in doc:\n",
        "    j = j+1\n",
        "    #text = page.get_text()\n",
        "    text: str = page.get_text().encode(\"ascii\", \"ignore\").decode(\"utf-8\", \"ignore\")\n",
        "    image: bytes = page.get_pixmap().tobytes()\n",
        "\n",
        "    if(image):\n",
        "      encoded_content = b64encode(image).decode(\"utf-8\")\n",
        "\n",
        "    # Iterate over page text to create 1024 chunks\n",
        "    for i in range(0, len(text), 1024):\n",
        "        end_index = min(i + 1024, len(text))\n",
        "        chunk = text[i:end_index]\n",
        "\n",
        "        # Encode and decode for consistent encoding\n",
        "        chunked_text_dict[chunk_number] = chunk.encode(\"ascii\", \"ignore\").decode(\n",
        "            \"utf-8\", \"ignore\"\n",
        "        )\n",
        "\n",
        "        # Increment chunk number\n",
        "        chunk_number += 1\n",
        "        embeddings = get_embedding(chunk, encoded_content)\n",
        "        embs = embs + [embeddings]\n",
        "        new_rows = pd.DataFrame({'id': j, 'pagetext': text, 'embedding':embs})\n",
        "        df = df.append(new_rows,  ignore_index=True)\n",
        "\n",
        "print(df.count)\n",
        "print(df.head())"
      ],
      "metadata": {
        "id": "yLAyBUz7hrn-"
      },
      "id": "yLAyBUz7hrn-",
      "execution_count": null,
      "outputs": []
    },
    {
      "cell_type": "code",
      "source": [
        "#save id and embedding as a json file\n",
        "jsonl_string = df[['id', 'embedding']].to_json(orient = 'records', lines = True)\n",
        "with open('questions.json', 'w') as f:\n",
        "  f.write(jsonl_string)\n",
        "\n",
        "# show the first few lines of the json file\n",
        "! head -n 3 questions.json"
      ],
      "metadata": {
        "colab": {
          "base_uri": "https://localhost:8080/"
        },
        "id": "mausbmbjqofz",
        "executionInfo": {
          "status": "ok",
          "timestamp": 1703534034630,
          "user_tz": 300,
          "elapsed": 122,
          "user": {
            "displayName": "",
            "userId": ""
          }
        },
        "outputId": "a80313c0-8eef-486f-aa26-e6987e2956f5"
      },
      "id": "mausbmbjqofz",
      "execution_count": 34,
      "outputs": [
        {
          "output_type": "stream",
          "name": "stdout",
          "text": [
            "{\"id\":0,\"embedding\":[0.162386492,-0.13732411,-0.0335402898,0.14398022,-0.122333094,-0.0377790257,0.0240865219,-0.0017052217,0.0334912129,0.210242569,0.0621364228,-0.0291163661,0.0024660607,-0.0016409442,-0.0406342819,0.0893247053,0.0547820441,-0.0632302314,-0.0100670774,-0.0338799804,-0.0430848673,-0.0820516944,-0.0881515145,-0.0669674054,0.0066038007,-0.10697303,0.145512149,0.0092992894,0.0397034436,-0.0342278443,0.0223351121,0.0772869736,0.0171164759,0.0904175565,-0.0189724378,0.0168321133,0.0861063227,0.0695455819,-0.196284965,0.0514312312,0.129099473,0.006122801,-0.004913826,0.0615970381,0.0292057078,-0.0128903249,0.0081424993,0.0611125492,0.0604749694,0.0465256609,0.0135714663,-0.0094454475,0.0139428508,-0.0803473741,0.0827211514,-0.0297323409,-0.0343248658,0.420471,-0.163813666,-0.0094759557,-0.0911347941,0.0115482658,-0.0160371661,0.0856366903,-0.0464085862,0.109886266,-0.106389679,0.0270563066,-0.0594360642,0.063778989,-0.0374573506,0.0779226869,0.0440982543,0.0217658207,-0.386372566,0.0141581437,0.0793069527,-0.123681508,0.0735177398,0.103438385,-0.0169898402,-0.04063363,0.055100657,0.163298145,0.0569097549,-0.0089086136,0.0807867199,0.0795862228,-0.0161653757,-0.0393268839,0.0181039199,-0.0273795649,-0.0369503312,0.0500333607,-0.00931291,0.0414147303,0.108816989,0.0437614433,0.0579357445,0.101393811,-0.0303102676,0.0481707118,0.0460913852,-0.059240859,0.311476588,-0.0197875183,0.00932195,0.116579667,0.0361357965,0.0278190207,0.0414313041,-0.0206762757,0.0172896404,0.0206793305,-0.0148849022,-0.0461106449,-0.0213788599,0.0436796956,-0.0404349491,-0.0103146592,-0.0015598913,-0.0618319474,-0.072871536,-0.0061939759,-0.0174353197,-0.0101879276,-0.0019413626,0.0162341,-0.0566078573,-0.0524079911,0.012553826,0.130660668,-0.455076486,0.0026411784,0.0547590069,0.0750577226,0.0249482598,0.06988848,-0.0042864522,-0.0547172055,-0.0808058605,-0.0516513027,-0.060140796,0.0700614303,0.0725361705,-0.0137519743,0.0340918861,-0.0337487087,-0.128394008,0.0236744322,0.030347703,-0.0574471317,0.0233828444,-0.0695666373,0.0763324276,0.297058612,0.0841530934,-0.0042957161,0.0693008602,0.194042638,0.045225706,0.128889531,0.0050831987,-0.0068938187,-0.001062612,0.189671069,-0.0675388947,0.0368742906,0.0378058478,0.0621602274,0.0134988232,0.0017235895,0.030646896,0.0357273705,0.0387315899,0.0644337833,0.0077131442,0.0283036511,-0.0606253408,-0.0286475495,-0.0593155697,-0.0468453579,-0.0303050745,0.0233077724,-0.0200052168,0.101498969,-0.131232649,-0.0249670725,-0.0956478566,0.0511484444,0.0264222119,0.048637554,-0.0091162417,0.0853457227,-0.0522319116,0.0993853733,-0.010935571,0.0251434539,-0.0181571878,0.0531731322,-0.0073355455,0.033023186,-0.0541683212,0.0238488838,0.08579804,-0.162249446,0.116552368,0.0641706958,-0.0034861711,-0.080658026,0.0264651459,0.03436625,-0.0755593702,-0.0102039706,0.122381598,0.0602992214,0.0113111977,-0.0212824754,-0.0476534851,-0.00961088,0.0191668682,0.0393107571,-0.0225029364,0.037956804,0.123747014,0.0283372402,-0.009880987,0.012598441,-0.037637867,0.0679241419,0.43159321,-0.0491398387,0.103370726,0.0068213325,-0.0616035,-0.0119589055,-0.0082800956,0.0517185032,-0.0210095122,-0.0090778321,-0.0313612707,0.000471689,0.0322978422,-0.247524679,0.020658426,0.0203232151,-0.0108100278,-0.0270122606,0.0063429773,-0.0535038859,0.0023841711,0.056940034,0.0025822057,0.0236239601,-0.0395661555,0.0713678449]}\n",
            "{\"id\":0,\"embedding\":[0.162386492,-0.13732411,-0.0335402898,0.14398022,-0.122333094,-0.0377790257,0.0240865219,-0.0017052217,0.0334912129,0.210242569,0.0621364228,-0.0291163661,0.0024660607,-0.0016409442,-0.0406342819,0.0893247053,0.0547820441,-0.0632302314,-0.0100670774,-0.0338799804,-0.0430848673,-0.0820516944,-0.0881515145,-0.0669674054,0.0066038007,-0.10697303,0.145512149,0.0092992894,0.0397034436,-0.0342278443,0.0223351121,0.0772869736,0.0171164759,0.0904175565,-0.0189724378,0.0168321133,0.0861063227,0.0695455819,-0.196284965,0.0514312312,0.129099473,0.006122801,-0.004913826,0.0615970381,0.0292057078,-0.0128903249,0.0081424993,0.0611125492,0.0604749694,0.0465256609,0.0135714663,-0.0094454475,0.0139428508,-0.0803473741,0.0827211514,-0.0297323409,-0.0343248658,0.420471,-0.163813666,-0.0094759557,-0.0911347941,0.0115482658,-0.0160371661,0.0856366903,-0.0464085862,0.109886266,-0.106389679,0.0270563066,-0.0594360642,0.063778989,-0.0374573506,0.0779226869,0.0440982543,0.0217658207,-0.386372566,0.0141581437,0.0793069527,-0.123681508,0.0735177398,0.103438385,-0.0169898402,-0.04063363,0.055100657,0.163298145,0.0569097549,-0.0089086136,0.0807867199,0.0795862228,-0.0161653757,-0.0393268839,0.0181039199,-0.0273795649,-0.0369503312,0.0500333607,-0.00931291,0.0414147303,0.108816989,0.0437614433,0.0579357445,0.101393811,-0.0303102676,0.0481707118,0.0460913852,-0.059240859,0.311476588,-0.0197875183,0.00932195,0.116579667,0.0361357965,0.0278190207,0.0414313041,-0.0206762757,0.0172896404,0.0206793305,-0.0148849022,-0.0461106449,-0.0213788599,0.0436796956,-0.0404349491,-0.0103146592,-0.0015598913,-0.0618319474,-0.072871536,-0.0061939759,-0.0174353197,-0.0101879276,-0.0019413626,0.0162341,-0.0566078573,-0.0524079911,0.012553826,0.130660668,-0.455076486,0.0026411784,0.0547590069,0.0750577226,0.0249482598,0.06988848,-0.0042864522,-0.0547172055,-0.0808058605,-0.0516513027,-0.060140796,0.0700614303,0.0725361705,-0.0137519743,0.0340918861,-0.0337487087,-0.128394008,0.0236744322,0.030347703,-0.0574471317,0.0233828444,-0.0695666373,0.0763324276,0.297058612,0.0841530934,-0.0042957161,0.0693008602,0.194042638,0.045225706,0.128889531,0.0050831987,-0.0068938187,-0.001062612,0.189671069,-0.0675388947,0.0368742906,0.0378058478,0.0621602274,0.0134988232,0.0017235895,0.030646896,0.0357273705,0.0387315899,0.0644337833,0.0077131442,0.0283036511,-0.0606253408,-0.0286475495,-0.0593155697,-0.0468453579,-0.0303050745,0.0233077724,-0.0200052168,0.101498969,-0.131232649,-0.0249670725,-0.0956478566,0.0511484444,0.0264222119,0.048637554,-0.0091162417,0.0853457227,-0.0522319116,0.0993853733,-0.010935571,0.0251434539,-0.0181571878,0.0531731322,-0.0073355455,0.033023186,-0.0541683212,0.0238488838,0.08579804,-0.162249446,0.116552368,0.0641706958,-0.0034861711,-0.080658026,0.0264651459,0.03436625,-0.0755593702,-0.0102039706,0.122381598,0.0602992214,0.0113111977,-0.0212824754,-0.0476534851,-0.00961088,0.0191668682,0.0393107571,-0.0225029364,0.037956804,0.123747014,0.0283372402,-0.009880987,0.012598441,-0.037637867,0.0679241419,0.43159321,-0.0491398387,0.103370726,0.0068213325,-0.0616035,-0.0119589055,-0.0082800956,0.0517185032,-0.0210095122,-0.0090778321,-0.0313612707,0.000471689,0.0322978422,-0.247524679,0.020658426,0.0203232151,-0.0108100278,-0.0270122606,0.0063429773,-0.0535038859,0.0023841711,0.056940034,0.0025822057,0.0236239601,-0.0395661555,0.0713678449]}\n",
            "{\"id\":0,\"embedding\":[0.18786332,-0.0786748156,-0.0177796427,0.0222085528,0.0045013498,-0.0510415621,0.10654927,-0.0067421584,0.0179220457,0.223178089,0.0468086153,-0.008632007,0.0125644039,-0.019254664,-0.0387964249,0.071018666,0.0097335838,-0.0039173891,-0.0108581912,-0.0209157318,-0.0221936982,0.0286245346,0.0290487967,0.0285963695,0.0078627635,-0.0630659834,0.0427960232,0.0820977,-0.0211698972,-0.019941479,-0.0517935567,0.107292861,-0.0354717597,0.0072547551,-0.0581217855,0.114243746,-0.0198509134,0.0203356408,-0.216217533,0.0802583471,0.0323425569,0.0560935512,0.0272103343,-0.0101966374,-0.0341236331,-0.0020387284,0.0833683237,-0.0278650876,-0.0009342991,0.0108441906,-0.0677481443,0.0314679332,-0.0431432,0.076742433,-0.0151822297,-0.00966489,0.0177896135,0.481766939,-0.0596047714,-0.0247126985,-0.0877987519,0.0890224576,0.0188852213,-0.0210229661,-0.0375872254,-0.0169840567,-0.052477628,-0.0687907934,0.0495034307,0.0739768,0.0663775802,0.0232619047,0.0025375816,0.0363908261,-0.466238,0.0494019352,0.0256450493,-0.0726597905,0.0264168363,0.0433698036,0.0282463077,-0.0164398365,0.0763144195,-0.0094333412,-0.131647855,0.0438503511,0.116766013,0.0221411213,-0.0788563266,0.0405851789,-0.0415208,0.0123870047,0.0295372289,0.0279817805,-0.105046675,-0.0208917279,0.0040330989,-0.0191786885,0.026711598,0.0268445984,-0.0523796715,0.0205321908,0.0417856611,-0.0003600834,0.385947,0.0253705513,-0.0100157205,0.0214062799,-0.0173747186,0.0357616358,0.0179395452,0.03957773,-0.0362977274,0.0467666648,0.0281406697,-0.0510541834,0.0586376712,0.005810013,-0.0916008055,-0.0248199757,-0.0289750192,0.0068872729,-0.0049194754,-0.0474346653,0.0106222201,0.0458554253,-0.0199766103,0.0000854431,-0.0565886833,-0.0524131209,0.0125524066,0.130662978,-0.455073267,0.0026411698,0.0547600277,0.0750463232,0.0249357466,0.0698928237,-0.0042787115,-0.0547184,-0.0807944685,-0.0516515374,-0.0601431318,0.0700699538,0.0725376084,-0.0137474015,0.0340889357,-0.0337429568,-0.128394231,0.0236764122,0.0303567871,-0.0574409403,0.0233807042,-0.0695617422,0.0763349161,0.297074974,0.0841523185,-0.0042991974,0.0692905635,0.19405143,0.0452192351,0.128885403,0.005073247,-0.0068918606,-0.0010647608,0.189660117,-0.067533493,0.0368673019,0.0378064401,0.0621568263,0.0135105448,0.0017162681,0.0306478254,0.0357292518,0.0387337059,0.0644413531,0.0077082948,0.0283037405,-0.060627114,-0.0286481213,-0.0593299046,-0.0468438715,-0.0303087104,0.0233141482,-0.0200119726,0.101497233,-0.131230444,-0.0249770731,-0.0956438631,0.051151827,0.0264179539,0.0486370288,-0.0091188569,0.0853553489,-0.0522268116,0.0993835479,-0.0109274043,0.0251335241,-0.0181572493,0.0531832278,-0.0073341047,0.0330149047,-0.0541626215,0.0238561071,0.0857922435,-0.162243307,0.116544969,0.0641607,-0.0034835944,-0.0806499422,0.0264598653,0.0343759172,-0.0755587295,-0.0102155618,0.122378327,0.0603054389,0.0113088926,-0.0212826356,-0.047638908,-0.009616063,0.0191589613,0.03931,-0.0224925149,0.0379561745,0.123762183,0.0283377357,-0.0098691173,0.0126018086,-0.0376376174,0.0679232702,0.431599557,-0.0491302051,0.10336747,0.0068182848,-0.0615997128,-0.0119512435,-0.0082719354,0.0517204404,-0.0210046694,-0.0090886494,-0.0313687138,0.0004762034,0.0322967097,-0.24752894,0.0206583329,0.0203217398,-0.0108058574,-0.0270135477,0.006351532,-0.0534996167,0.0023849101,0.0569341555,0.0025912509,0.0236194897,-0.0395614691,0.0713737756]}\n"
          ]
        }
      ]
    },
    {
      "cell_type": "code",
      "source": [
        "from datetime import datetime\n",
        "UID = datetime.now().strftime(\"%m%d%H%M\")\n",
        "\n",
        "BUCKET_URI = f\"gs://{PROJECT_ID}-gemini-rag-{UID}\"\n",
        "! gsutil mb -l $LOCATION -p {PROJECT_ID} {BUCKET_URI}\n",
        "! gsutil cp questions.json {BUCKET_URI}"
      ],
      "metadata": {
        "colab": {
          "base_uri": "https://localhost:8080/"
        },
        "id": "uhRiUo3SrugF",
        "executionInfo": {
          "status": "ok",
          "timestamp": 1703534047624,
          "user_tz": 300,
          "elapsed": 4630,
          "user": {
            "displayName": "",
            "userId": ""
          }
        },
        "outputId": "2b99da28-c7dd-4cdf-bca1-7f101712d6a1"
      },
      "id": "uhRiUo3SrugF",
      "execution_count": 35,
      "outputs": [
        {
          "output_type": "stream",
          "name": "stdout",
          "text": [
            "Creating gs://smithaargolisinternal-gemini-rag-12251954/...\n",
            "Copying file://questions.json [Content-Type=application/json]...\n",
            "/ [1 files][  1.8 MiB/  1.8 MiB]                                                \n",
            "Operation completed over 1 objects/1.8 MiB.                                      \n"
          ]
        }
      ]
    },
    {
      "cell_type": "code",
      "source": [
        "# create index\n",
        "my_index = aiplatform.MatchingEngineIndex.create_tree_ah_index(\n",
        "  display_name = f\"gemini-rag-{UID}\",\n",
        "  contents_delta_uri = BUCKET_URI,\n",
        "  dimensions = 128,\n",
        "  approximate_neighbors_count = 20,\n",
        "  distance_measure_type = \"DOT_PRODUCT_DISTANCE\",\n",
        ")"
      ],
      "metadata": {
        "id": "c760lxKyrjJ3"
      },
      "id": "c760lxKyrjJ3",
      "execution_count": null,
      "outputs": []
    },
    {
      "cell_type": "code",
      "source": [
        "# create IndexEndpoint\n",
        "my_index_endpoint = aiplatform.MatchingEngineIndexEndpoint.create(\n",
        "  display_name = f\"gemini-rag-index-endpoint-{UID}\",\n",
        "  public_endpoint_enabled = True,\n",
        ")"
      ],
      "metadata": {
        "id": "gUKafveP3jGf"
      },
      "id": "gUKafveP3jGf",
      "execution_count": null,
      "outputs": []
    },
    {
      "cell_type": "code",
      "source": [
        "DEPLOYED_INDEX_ID = f\"gemini_rag_index_endpoint_{UID}\""
      ],
      "metadata": {
        "id": "hHSDoLU43q7Y",
        "executionInfo": {
          "status": "ok",
          "timestamp": 1703472519539,
          "user_tz": 300,
          "elapsed": 130,
          "user": {
            "displayName": "",
            "userId": ""
          }
        }
      },
      "id": "hHSDoLU43q7Y",
      "execution_count": 78,
      "outputs": []
    },
    {
      "cell_type": "code",
      "source": [
        "# deploy the Index to the Index Endpoint\n",
        "my_index_endpoint.deploy_index(\n",
        "  index = my_index, deployed_index_id = DEPLOYED_INDEX_ID\n",
        ")"
      ],
      "metadata": {
        "id": "KjGrTvdq3v8U"
      },
      "id": "KjGrTvdq3v8U",
      "execution_count": null,
      "outputs": []
    },
    {
      "cell_type": "code",
      "source": [
        "# Now it is time to ask a question\n",
        "user_query = \"What is the total revenue for the full year 2023\"\n",
        "test_embeddings = get_embedding(user_query)\n",
        "print(test_embeddings)"
      ],
      "metadata": {
        "colab": {
          "base_uri": "https://localhost:8080/"
        },
        "id": "LBfdhH-e5Jkt",
        "executionInfo": {
          "status": "ok",
          "timestamp": 1703477280670,
          "user_tz": 300,
          "elapsed": 642,
          "user": {
            "displayName": "",
            "userId": ""
          }
        },
        "outputId": "05981af6-78ce-4a77-ea97-debbfc1521b6"
      },
      "id": "LBfdhH-e5Jkt",
      "execution_count": 98,
      "outputs": [
        {
          "output_type": "stream",
          "name": "stdout",
          "text": [
            "[0.183731273, -0.0349904299, -0.0426771566, 0.11915233, -0.0193503462, 0.0247816965, 0.0378496759, -0.0146224238, -0.0626877099, 0.207170337, 0.00691538677, -0.0751065239, -0.0663538277, -0.00507476786, 0.011584417, 0.0424236581, -0.0653219596, 0.00397406891, 0.0848871, -0.00989756268, -0.0128830122, -0.083487235, -0.0213273074, -0.0531130955, -0.0108254049, -0.140989453, 0.0146959815, 0.0401162915, 0.0803446323, -0.0576752089, 0.0455237888, 0.0702870414, -0.00101315591, 0.0256027803, -0.0547730736, 0.0532669835, 0.00965765, 0.0950957462, -0.214451715, 0.0324477777, 0.116984457, 0.050259728, -0.0068517914, -0.00424313778, 0.0226478633, 0.0629376248, -0.00765806157, -0.011567439, -0.0432947762, -0.033815261, 0.0157372281, 0.0366843753, -0.0978522152, -0.0352547392, -0.044441741, -0.000378627883, -0.0203806777, 0.463642389, -0.0330315158, -0.0918604, -0.0729816109, 0.00584390899, -0.0138778016, 0.0200585965, 0.00529478397, -0.0107086841, -0.099268727, -0.0405842401, -0.00683561759, 0.0215808451, 0.0262589436, -0.000552329642, 0.0221448783, -0.0151278395, -0.449844033, -0.0773972124, 0.0156392287, -0.0484318063, -0.0201321524, -0.00590549177, 0.0558991097, -0.0528449416, 0.0293540731, 0.0977017507, -0.0679929, -0.0738669112, 0.0482989922, 0.0125328554, -0.0327198431, -0.0143963937, 0.0179460421, 0.0309368949, 0.0328107, 0.0736816078, 0.0366481766, 0.0369328596, 0.174458921, 0.025546357, -0.0114974352, 0.097132, 0.0441826358, 0.00561765954, 0.0487804078, -0.011882293, 0.386933237, -0.0153567633, 0.0212185327, -0.0135097615, 0.00661839824, 0.0288046543, 0.0625180379, 0.0429161526, -0.00395273743, -0.0124446107, -0.0396523513, -0.0804701298, 0.0429209471, 0.0476444811, 0.0410444699, 0.0562703237, 0.0586570278, -0.0197465215, -0.0345730484, -0.0438018255, 0.0176385213, 0.015140621, -0.0451629758, 0.0167701039]\n"
          ]
        }
      ]
    },
    {
      "cell_type": "code",
      "source": [
        "# Test query\n",
        "response = my_index_endpoint.find_neighbors(\n",
        "  deployed_index_id = DEPLOYED_INDEX_ID,\n",
        "  queries = [test_embeddings],\n",
        "  num_neighbors = 2,\n",
        ")\n",
        "\n",
        "# show the result\n",
        "import numpy as np\n",
        "for idx, neighbor in enumerate(response[0]):\n",
        "  id = np.int64(neighbor.id)\n",
        "  similar = df.query(\"id == @id\", engine = \"python\")\n",
        "  print(f\"{neighbor.distance:.4f} {similar.pagetext.values[0]}\")"
      ],
      "metadata": {
        "id": "NjqRAyn75UNF"
      },
      "id": "NjqRAyn75UNF",
      "execution_count": null,
      "outputs": []
    },
    {
      "cell_type": "code",
      "source": [
        "from vertexai.preview.generative_models import (Content,\n",
        "                                                GenerationConfig,\n",
        "                                                GenerativeModel,\n",
        "                                                GenerationResponse,\n",
        "                                                Image,\n",
        "                                                HarmCategory,\n",
        "                                                HarmBlockThreshold,\n",
        "                                                Part)\n",
        "i = 0\n",
        "nn = []\n",
        "for idx, neighbor in enumerate(response[0]):\n",
        "  id = np.int64(neighbor.id)\n",
        "  similar = df.query(\"id == @id\", engine = \"python\")\n",
        "  context = similar.pagetext.values[0]\n",
        "\n",
        "# Craft Prompt and Invoke Model\n",
        "prompt = f\"\"\"\n",
        "Context: You are Q&A Agent, an expert in reading earnings document.\n",
        "Use the following essay you wrote to give a detailed answer to any questions you receive: {context}\n",
        "Question: {user_query}\n",
        "    \"\"\"\n",
        "\n",
        "safety_settings={\n",
        "        HarmCategory.HARM_CATEGORY_HARASSMENT: HarmBlockThreshold.BLOCK_NONE,\n",
        "        HarmCategory.HARM_CATEGORY_HATE_SPEECH: HarmBlockThreshold.BLOCK_NONE,\n",
        "        HarmCategory.HARM_CATEGORY_SEXUALLY_EXPLICIT: HarmBlockThreshold.BLOCK_NONE,\n",
        "        HarmCategory.HARM_CATEGORY_DANGEROUS_CONTENT: HarmBlockThreshold.BLOCK_NONE,\n",
        "    }\n",
        "config = {\n",
        "        \"temperature\": 0.8,\n",
        "        \"max_output_tokens\": 2048,\n",
        "        }\n",
        "\n",
        "responses = model.generate_content(prompt,\n",
        "                                       generation_config = config,\n",
        "                                       safety_settings=safety_settings,\n",
        "                                       stream=True)\n",
        "final_response = []\n",
        "for response in responses:\n",
        "      try:\n",
        "        # st.write(response.text)\n",
        "        final_response.append(response.text)\n",
        "      except IndexError:\n",
        "        # st.write(response)\n",
        "        final_response.append(\"\")\n",
        "        continue\n",
        "\n",
        "print(\"Answer:\")\n",
        "print(final_response)"
      ],
      "metadata": {
        "colab": {
          "base_uri": "https://localhost:8080/"
        },
        "id": "Uv14uGPGHBb-",
        "executionInfo": {
          "status": "ok",
          "timestamp": 1703477302155,
          "user_tz": 300,
          "elapsed": 1161,
          "user": {
            "displayName": "",
            "userId": ""
          }
        },
        "outputId": "1cd6ba40-1917-4c45-a1ba-48b8966576ee"
      },
      "id": "Uv14uGPGHBb-",
      "execution_count": 100,
      "outputs": [
        {
          "output_type": "stream",
          "name": "stdout",
          "text": [
            "Answer:\n",
            "['I apologize, but I cannot answer your question based on the information you have provided', \". The document does not include any information about the company's total revenue for the full year of 2023.\"]\n"
          ]
        }
      ]
    }
  ],
  "metadata": {
    "kernelspec": {
      "display_name": "Python 3",
      "language": "python",
      "name": "python3"
    },
    "language_info": {
      "codemirror_mode": {
        "name": "ipython",
        "version": 3
      },
      "file_extension": ".py",
      "mimetype": "text/x-python",
      "name": "python",
      "nbconvert_exporter": "python",
      "pygments_lexer": "ipython3",
      "version": "3.10.10"
    },
    "colab": {
      "provenance": []
    }
  },
  "nbformat": 4,
  "nbformat_minor": 5
}